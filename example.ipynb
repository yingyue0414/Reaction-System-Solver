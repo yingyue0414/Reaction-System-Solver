{
 "cells": [
  {
   "cell_type": "markdown",
   "metadata": {},
   "source": [
    "# 1. Using the all-in-one parser `src.reaction_string_parser`\n",
    "\n",
    "The code uses set to parse species in given string, so if `sort_species_by` is not specified, the default sequence of species arbitrary (although the corresponding relationship between species names, reactant matrix, and product matrix will still be conserved). You may specify rate constant name in reaction string; the code will automatically assign a rate constant name to your reaction if not provided."
   ]
  },
  {
   "cell_type": "code",
   "execution_count": 1,
   "metadata": {},
   "outputs": [
    {
     "name": "stdout",
     "output_type": "stream",
     "text": [
      "Species Names:\n",
      "['E' 'ES' 'P' 'S']\n",
      "Reactant Stoichiometry Matrix:\n",
      "[[1 0 0 1]\n",
      " [0 1 0 0]]\n",
      "Product Stoichiometry Matrix:\n",
      "[[0 1 0 0]\n",
      " [1 0 1 0]]\n",
      "Rate Constant Values: Placeholder. for future use, I think rate constant not from string is better for now?\n",
      "Rate Constant Names:\n",
      "['k0', 'k1']\n"
     ]
    }
   ],
   "source": [
    "from src.reaction_string_parser import *\n",
    "\n",
    "# initialize an instance of reaction_string_parser\n",
    "rsp = ReactionStringParser()\n",
    "\n",
    "# sorting while parsing\n",
    "# Example usage:\n",
    "reaction_strings = [\"E + S -> ES\", \"ES -> E + P\"]\n",
    "species_names, rate_constant_names, reactant_matrix, product_matrix =\\\n",
    "        rsp.parse_reaction_strings(reaction_strings, sort_species_by=\"increasing\")\n",
    "\n",
    "print(\"Species Names:\")\n",
    "print(species_names)\n",
    "print(\"Reactant Stoichiometry Matrix:\")\n",
    "print(reactant_matrix)\n",
    "print(\"Product Stoichiometry Matrix:\")\n",
    "print(product_matrix)\n",
    "print(\"Rate Constant Values: Placeholder. for future use, I think rate constant not from string is better for now?\")\n",
    "print(\"Rate Constant Names:\")\n",
    "print(rate_constant_names)"
   ]
  },
  {
   "cell_type": "markdown",
   "metadata": {},
   "source": [
    "## 1.1. Decimal / fraction\n",
    "\n",
    "To enable decimal / fraction support for `src.reaction_string_parser`, add a flag `dtype = float` when using the parser as follows."
   ]
  },
  {
   "cell_type": "code",
   "execution_count": 2,
   "metadata": {},
   "outputs": [
    {
     "name": "stdout",
     "output_type": "stream",
     "text": [
      "Species Names:\n",
      "['A' 'B' 'C']\n",
      "Reactant Stoichiometry Matrix:\n",
      "[[0.6  0.25 0.  ]\n",
      " [0.   0.   1.  ]]\n",
      "Product Stoichiometry Matrix:\n",
      "[[0.   0.   1.  ]\n",
      " [0.6  0.25 0.  ]]\n",
      "Rate Constant Names:\n",
      "['kon', 'koff']\n"
     ]
    }
   ],
   "source": [
    "# Example usage:\n",
    "# Remember to set dtype to float to enable decimal / fraction support!\n",
    "reaction_strings = [\"0.6A + 1/4 B -> C, kon\", \"C -> 0.6 A + 1/4 B, koff\"]\n",
    "species_names, rate_constant_names, reactant_matrix, product_matrix =\\\n",
    "        rsp.parse_reaction_strings(reaction_strings, dtype = float)\n",
    "\n",
    "print(\"Species Names:\")\n",
    "print(species_names)\n",
    "print(\"Reactant Stoichiometry Matrix:\")\n",
    "print(reactant_matrix)\n",
    "print(\"Product Stoichiometry Matrix:\")\n",
    "print(product_matrix)\n",
    "print(\"Rate Constant Names:\")\n",
    "print(rate_constant_names)"
   ]
  },
  {
   "cell_type": "markdown",
   "metadata": {},
   "source": [
    "## 1.2. Regular expression\n",
    "\n",
    "The string parser uses regex to maximize syntax compatibility in parser strings. Also, you can customize the regex  when you initialize the instance of `ReactionStringParser`. An example is as follows."
   ]
  },
  {
   "cell_type": "code",
   "execution_count": 3,
   "metadata": {},
   "outputs": [
    {
     "name": "stdout",
     "output_type": "stream",
     "text": [
      "Species Names:\n",
      "['A' 'B' 'C']\n",
      "Reactant Stoichiometry Matrix:\n",
      "[[1. 1. 0.]]\n",
      "Product Stoichiometry Matrix:\n",
      "[[0. 0. 1.]]\n",
      "Rate Constant Names:\n",
      "['k0']\n"
     ]
    }
   ],
   "source": [
    "# initialize a customized instance of reaction_string_parser\n",
    "rsp_customized = ReactionStringParser(rightward_reaction_symbol = r\">+\")\n",
    "\n",
    "# Example usage:\n",
    "# Remember to set dtype to float to enable decimal / fraction support!\n",
    "reaction_strings = [\"A + B >>>>>> C\"]\n",
    "species_names, rate_constant_names, reactant_matrix, product_matrix =\\\n",
    "        rsp_customized.parse_reaction_strings(reaction_strings, dtype = float)\n",
    "\n",
    "print(\"Species Names:\")\n",
    "print(species_names)\n",
    "print(\"Reactant Stoichiometry Matrix:\")\n",
    "print(reactant_matrix)\n",
    "print(\"Product Stoichiometry Matrix:\")\n",
    "print(product_matrix)\n",
    "print(\"Rate Constant Names:\")\n",
    "print(rate_constant_names)"
   ]
  },
  {
   "cell_type": "markdown",
   "metadata": {},
   "source": [
    "# 2. Solver for IVP\n",
    "\n",
    "You can use the integrated IVP solver (using scipy ivp solver and matplotlib plotting) in reaction ODE solver to easily generate ODE solution for your system."
   ]
  },
  {
   "cell_type": "code",
   "execution_count": 4,
   "metadata": {},
   "outputs": [
    {
     "name": "stdout",
     "output_type": "stream",
     "text": [
      "Species Names:\n",
      "['E' 'ES' 'P' 'S']\n",
      "Rate Constant Names:\n",
      "['k2', 'k3']\n"
     ]
    },
    {
     "data": {
      "image/png": "[encoded data removed]",
      "text/plain": [
       "<Figure size 432x288 with 1 Axes>"
      ]
     },
     "metadata": {
      "needs_background": "light"
     },
     "output_type": "display_data"
    }
   ],
   "source": [
    "from src.reaction_ode_solver import *\n",
    "\n",
    "# Example usage:\n",
    "# Generate reaction system\n",
    "reaction_strings = [\"E + S -> ES\", \"ES -> E + P\"]\n",
    "species_names, rate_constant_names, reactant_matrix, product_matrix =\\\n",
    "        rsp.parse_reaction_strings(reaction_strings, sort_species_by=\"increasing\")\n",
    "\n",
    "print(\"Species Names:\")\n",
    "print(species_names)\n",
    "print(\"Rate Constant Names:\")\n",
    "print(rate_constant_names)\n",
    "\n",
    "# Rate constant assuming already non-dimensionalized\n",
    "rate_constants = [0.01, 1.0]\n",
    "\n",
    "# Define time span and initial concentration, assuming already non-dimensionalized\n",
    "t_span = [0.0, 200.0]\n",
    "y_init = [5.0, 0.0, 0.0, 100.0]\n",
    "\n",
    "solve_reaction_ode(dydt, t_span, y_init, reactant_matrix = reactant_matrix,\n",
    "                                             product_matrix = product_matrix,\n",
    "                                             k = rate_constants,\n",
    "                                             species_names = species_names)"
   ]
  },
  {
   "cell_type": "markdown",
   "metadata": {},
   "source": [
    "## 2.1. Generate `dydt`\n",
    "\n",
    "If you wish to use an optimized ODE solver and just want the `dydt` function, `src.reaction_ode_solver` gives a standardized function to generate `dydt` function based on reactant_matrix, product_matrix, and rate constants. Note, `functools.partial` might be useful since most IVP solvers only takes in `dydt(t, y)`."
   ]
  },
  {
   "cell_type": "code",
   "execution_count": 5,
   "metadata": {},
   "outputs": [],
   "source": [
    "from functools import partial\n",
    "\n",
    "# note the dydt function is in src.reaction_ode_solver so another naming is needed for disambiguation\n",
    "dydt_ = partial(dydt, reactant_matrix = reactant_matrix,\n",
    "                      product_matrix = product_matrix,\n",
    "                      k = rate_constants)"
   ]
  },
  {
   "cell_type": "markdown",
   "metadata": {},
   "source": [
    "# 3. Gillespie\n",
    "\n",
    "The Gillespie algorithm is a stochastic simulation algorithm used to model the time evolution of chemical reaction systems. It is particularly useful for systems with low reactant counts and when stochastic effects play a significant role. The `gillespie_simulation` function provided in `src.reaction_gillespie` module (src/reaction_gillespie.py) allows you to perform Gillespie simulations for a given chemical reaction system. `convert_to_microscopic_rate_constants` enables automatic conversion between microscopic and macroscopic rate constant (assuming concentration in M and volume in L).\n",
    "\n",
    "Note that `y` now refers to copy number instead of concentration"
   ]
  },
  {
   "cell_type": "code",
   "execution_count": 6,
   "metadata": {},
   "outputs": [
    {
     "name": "stdout",
     "output_type": "stream",
     "text": [
      "Species Names:\n",
      "['E' 'ES' 'P' 'S']\n",
      "Rate Constant Names:\n",
      "['k4', 'k5']\n"
     ]
    },
    {
     "data": {
      "text/plain": [
       "<matplotlib.legend.Legend at 0x7f9a485bf7c0>"
      ]
     },
     "execution_count": 6,
     "metadata": {},
     "output_type": "execute_result"
    },
    {
     "data": {
      "image/png": "[encoded data removed]",
      "text/plain": [
       "<Figure size 432x288 with 1 Axes>"
      ]
     },
     "metadata": {
      "needs_background": "light"
     },
     "output_type": "display_data"
    }
   ],
   "source": [
    "from src.reaction_gillespie import *\n",
    "\n",
    "# Example usage:\n",
    "# Generate reaction system\n",
    "reaction_strings = [\"E + S -> ES\", \"ES -> E + P\"]\n",
    "species_names, rate_constant_names, reactant_matrix, product_matrix =\\\n",
    "        rsp.parse_reaction_strings(reaction_strings, sort_species_by=\"increasing\")\n",
    "\n",
    "print(\"Species Names:\")\n",
    "print(species_names)\n",
    "print(\"Rate Constant Names:\")\n",
    "print(rate_constant_names)\n",
    "\n",
    "# Convert rate constant to microscopic assuming already non-dimensionalized\n",
    "volume =1e-15 # Litre\n",
    "macroscopic_rate_constants = [1e7, 100.0]\n",
    "microscopic_rate_constants = \\\n",
    "    convert_to_microscopic_rate_constants(macroscopic_rate_constants, reactant_matrix, volume)\n",
    "\n",
    "# Define time and initial concentration, assuming already non-dimensionalized\n",
    "tot_time = 200\n",
    "y_init = [1, 0, 0, 100]\n",
    "\n",
    "# Run gillespie\n",
    "y_record, t_record = gillespie_simulation(tot_time, y_init, reactant_matrix,\n",
    "                                          product_matrix, microscopic_rate_constants)\n",
    "\n",
    "# plotting\n",
    "import matplotlib.pyplot as plt\n",
    "plt.plot(t_record, y_record)\n",
    "plt.legend(species_names)"
   ]
  }
 ],
 "metadata": {
  "kernelspec": {
   "display_name": "Python 3 (ipykernel)",
   "language": "python",
   "name": "python3"
  },
  "language_info": {
   "codemirror_mode": {
    "name": "ipython",
    "version": 3
   },
   "file_extension": ".py",
   "mimetype": "text/x-python",
   "name": "python",
   "nbconvert_exporter": "python",
   "pygments_lexer": "ipython3",
   "version": "3.9.7"
  }
 },
 "nbformat": 4,
 "nbformat_minor": 2
}
