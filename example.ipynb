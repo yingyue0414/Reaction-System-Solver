{
 "cells": [
  {
   "cell_type": "code",
   "execution_count": 1,
   "metadata": {},
   "outputs": [],
   "source": [
    "from src import reaction_string_parser"
   ]
  },
  {
   "cell_type": "markdown",
   "metadata": {},
   "source": [
    "Initialize an instance of reaction string parser\n",
    "====="
   ]
  },
  {
   "cell_type": "code",
   "execution_count": 2,
   "metadata": {},
   "outputs": [
    {
     "name": "stdout",
     "output_type": "stream",
     "text": [
      "('A + 5c + 0.8 ABUGH  +1/ 2 AUGH', '5J', 'k21', 1)\n"
     ]
    }
   ],
   "source": [
    "rsp = reaction_string_parser.ReactionStringParser()\n",
    "left, right, rate, direction = \\\n",
    "    rsp.parse_reaction_string(\"A + 5c + 0.8 ABUGH  +1/ 2 AUGH --> 5J , k21\")\n",
    "print((left, right, rate, direction))"
   ]
  },
  {
   "cell_type": "markdown",
   "metadata": {},
   "source": [
    "Using the all-in-one parser\n",
    "===="
   ]
  },
  {
   "cell_type": "code",
   "execution_count": 3,
   "metadata": {},
   "outputs": [
    {
     "name": "stdout",
     "output_type": "stream",
     "text": [
      "Species Names:\n",
      "['B', 'A', 'X', 'C', 'Y']\n",
      "Reactant Stoichiometry Matrix:\n",
      "[[1 1 0 0 0]\n",
      " [0 0 2 0 0]\n",
      " [0 0 0 1 0]\n",
      " [0 1 0 0 1]]\n",
      "Product Stoichiometry Matrix:\n",
      "[[0 0 0 1 0]\n",
      " [0 0 0 0 1]\n",
      " [1 1 0 0 0]\n",
      " [0 0 1 1 0]]\n",
      "Rate Constant Values: Placeholder. for future use, I think rate constant not from string is better for now?\n",
      "Rate Constant Names:\n",
      "['kon', 'kf', 'koff', 'ki']\n"
     ]
    }
   ],
   "source": [
    "# Example usage:\n",
    "reaction_strings = [\"A + B -> C, kon\", \"2X -> Y, kf\", \"C -> A + B, koff\", \"Y + A -> X + C, ki\"]\n",
    "species_names, rate_constant_names, reactant_matrix, product_matrix =\\\n",
    "        rsp.parse_reaction_strings(reaction_strings)\n",
    "print(\"Species Names:\")\n",
    "print(species_names)\n",
    "print(\"Reactant Stoichiometry Matrix:\")\n",
    "print(reactant_matrix)\n",
    "print(\"Product Stoichiometry Matrix:\")\n",
    "print(product_matrix)\n",
    "print(\"Rate Constant Values: Placeholder. for future use, I think rate constant not from string is better for now?\")\n",
    "print(\"Rate Constant Names:\")\n",
    "print(rate_constant_names)"
   ]
  },
  {
   "cell_type": "markdown",
   "metadata": {},
   "source": [
    "Sorting\n",
    "==="
   ]
  },
  {
   "cell_type": "code",
   "execution_count": 4,
   "metadata": {},
   "outputs": [
    {
     "name": "stdout",
     "output_type": "stream",
     "text": [
      "Species Names:\n",
      "['A' 'B' 'C' 'X' 'Y']\n",
      "Reactant Stoichiometry Matrix:\n",
      "[[1 1 0 0 0]\n",
      " [0 0 0 2 0]\n",
      " [0 0 1 0 0]\n",
      " [1 0 0 0 1]]\n",
      "Product Stoichiometry Matrix:\n",
      "[[0 0 1 0 0]\n",
      " [0 0 0 0 1]\n",
      " [1 1 0 0 0]\n",
      " [0 0 1 1 0]]\n",
      "Rate Constant Values: Placeholder. for future use, I think rate constant not from string is better for now?\n",
      "Rate Constant Names:\n",
      "['kon', 'kf', 'koff', 'ki']\n"
     ]
    }
   ],
   "source": [
    "# sorting while parsing\n",
    "# Example usage:\n",
    "reaction_strings = [\"A + B -> C, kon\", \"2X -> Y, kf\", \"C -> A + B, koff\", \"Y + A -> X + C, ki\"]\n",
    "species_names, rate_constant_names, reactant_matrix, product_matrix =\\\n",
    "        rsp.parse_reaction_strings(reaction_strings, sort_species_by=\"increasing\")\n",
    "print(\"Species Names:\")\n",
    "print(species_names)\n",
    "print(\"Reactant Stoichiometry Matrix:\")\n",
    "print(reactant_matrix)\n",
    "print(\"Product Stoichiometry Matrix:\")\n",
    "print(product_matrix)\n",
    "print(\"Rate Constant Values: Placeholder. for future use, I think rate constant not from string is better for now?\")\n",
    "print(\"Rate Constant Names:\")\n",
    "print(rate_constant_names)"
   ]
  },
  {
   "cell_type": "code",
   "execution_count": 5,
   "metadata": {},
   "outputs": [
    {
     "data": {
      "text/plain": [
       "(array([[1, 1, 0, 0, 0],\n",
       "        [0, 0, 1, 0, 0],\n",
       "        [0, 0, 0, 2, 0],\n",
       "        [1, 0, 0, 0, 1]]),\n",
       " array([[0, 0, 1, 0, 0],\n",
       "        [1, 1, 0, 0, 0],\n",
       "        [0, 0, 0, 0, 1],\n",
       "        [0, 0, 1, 1, 0]]),\n",
       " array(['kon', 'koff', 'kf', 'ki'], dtype='<U4'))"
      ]
     },
     "execution_count": 5,
     "metadata": {},
     "output_type": "execute_result"
    }
   ],
   "source": [
    "# sorting after parsing\n",
    "# sort by rate constant\n",
    "rsp.sort_by_rate_constants(reactant_matrix, product_matrix,\n",
    "            rate_constant_names, sort_order = ['kon', 'koff', 'kf', 'ki'])"
   ]
  },
  {
   "cell_type": "code",
   "execution_count": 6,
   "metadata": {},
   "outputs": [
    {
     "data": {
      "text/plain": [
       "(array([[1, 1, 0, 0, 0],\n",
       "        [0, 0, 0, 2, 0],\n",
       "        [0, 0, 1, 0, 0],\n",
       "        [1, 0, 0, 0, 1]]),\n",
       " array([[0, 0, 1, 0, 0],\n",
       "        [0, 0, 0, 0, 1],\n",
       "        [1, 1, 0, 0, 0],\n",
       "        [0, 0, 1, 1, 0]]),\n",
       " array(['A', 'B', 'C', 'X', 'Y'], dtype='<U1'))"
      ]
     },
     "execution_count": 6,
     "metadata": {},
     "output_type": "execute_result"
    }
   ],
   "source": [
    "# sort by species names\n",
    "rsp.sort_by_species_names(reactant_matrix, product_matrix,\n",
    "            species_names, sort_order = ['A', 'B', 'C', 'X', 'Y'])"
   ]
  },
  {
   "cell_type": "markdown",
   "metadata": {},
   "source": [
    "Decimal / Fraction support\n",
    "======"
   ]
  },
  {
   "cell_type": "code",
   "execution_count": 7,
   "metadata": {},
   "outputs": [
    {
     "name": "stdout",
     "output_type": "stream",
     "text": [
      "Species Names:\n",
      "['B', 'A', 'C']\n",
      "Reactant Stoichiometry Matrix:\n",
      "[[0.25 0.6  0.  ]\n",
      " [0.   0.   1.  ]]\n",
      "Product Stoichiometry Matrix:\n",
      "[[0.   0.   1.  ]\n",
      " [0.25 0.6  0.  ]]\n",
      "Rate Constant Values: Placeholder. for future use, I think rate constant not from string is better for now?\n",
      "Rate Constant Names:\n",
      "['kon', 'koff']\n"
     ]
    }
   ],
   "source": [
    "# Example usage:\n",
    "# Remember to set dtype to float to enable decimal / fraction support!\n",
    "reaction_strings = [\"0.6A + 1/4 B -> C, kon\", \"C -> 0.6 A + 1/4 B, koff\"]\n",
    "species_names, rate_constant_names, reactant_matrix, product_matrix =\\\n",
    "        rsp.parse_reaction_strings(reaction_strings, dtype = float)\n",
    "print(\"Species Names:\")\n",
    "print(species_names)\n",
    "print(\"Reactant Stoichiometry Matrix:\")\n",
    "print(reactant_matrix)\n",
    "print(\"Product Stoichiometry Matrix:\")\n",
    "print(product_matrix)\n",
    "print(\"Rate Constant Values: Placeholder. for future use, I think rate constant not from string is better for now?\")\n",
    "print(\"Rate Constant Names:\")\n",
    "print(rate_constant_names)"
   ]
  },
  {
   "cell_type": "markdown",
   "metadata": {},
   "source": [
    "Functionality breakdown\n",
    "===\n",
    "Parse LHS or RHS of reaction string to dictionaries\n",
    "==="
   ]
  },
  {
   "cell_type": "code",
   "execution_count": 8,
   "metadata": {},
   "outputs": [
    {
     "data": {
      "text/plain": [
       "{'A': 1.0, 'c': 5.0, 'ABUGH': 0.8, 'AUGH': 0.5}"
      ]
     },
     "execution_count": 8,
     "metadata": {},
     "output_type": "execute_result"
    }
   ],
   "source": [
    "rsp.parse_stoichiometry_string(left)"
   ]
  },
  {
   "cell_type": "markdown",
   "metadata": {},
   "source": [
    "Extract Reactant and Product dict from strings\n",
    "==="
   ]
  },
  {
   "cell_type": "code",
   "execution_count": 9,
   "metadata": {},
   "outputs": [
    {
     "name": "stdout",
     "output_type": "stream",
     "text": [
      "WARNING: Repeated names found in rate_constant_names: {'koff'} \n",
      " This can lead to ambiguity in ODE definition. \n",
      " Please consider change the naming.\n"
     ]
    },
    {
     "data": {
      "text/plain": [
       "({'A', 'ABUGH', 'AUGH', 'B', 'C', 'J', 'X', 'Y', 'c'},\n",
       " ['kon', 'koff', 'koff', 'ki', 'k21'],\n",
       " [{'A': 1.0, 'B': 1.0},\n",
       "  {'X': 2.0},\n",
       "  {'C': 1.0},\n",
       "  {'Y': 1.0, 'A': 1.0},\n",
       "  {'A': 1.0, 'c': 5.0, 'ABUGH': 0.8, 'AUGH': 0.5}],\n",
       " [{'C': 1.0},\n",
       "  {'Y': 1.0},\n",
       "  {'A': 1.0, 'B': 1.0},\n",
       "  {'X': 1.0, 'C': 1.0},\n",
       "  {'J': 5.0}])"
      ]
     },
     "execution_count": 9,
     "metadata": {},
     "output_type": "execute_result"
    }
   ],
   "source": [
    "reaction_strings = [\"A + B -> C, kon\", \"2X -> Y, koff\", \"C -> A + B, koff\", \n",
    "                    \"Y + A -> X + C, ki\",\n",
    "                    \"A + 5c + 0.8 ABUGH  +1/ 2 AUGH --> 5J , k21\"]\n",
    "rsp.extract_species_dictionaries_from_reaction_strings(reaction_strings)"
   ]
  },
  {
   "cell_type": "code",
   "execution_count": null,
   "metadata": {},
   "outputs": [],
   "source": []
  }
 ],
 "metadata": {
  "kernelspec": {
   "display_name": "Python 3",
   "language": "python",
   "name": "python3"
  },
  "language_info": {
   "codemirror_mode": {
    "name": "ipython",
    "version": 3
   },
   "file_extension": ".py",
   "mimetype": "text/x-python",
   "name": "python",
   "nbconvert_exporter": "python",
   "pygments_lexer": "ipython3",
   "version": "3.8.10"
  }
 },
 "nbformat": 4,
 "nbformat_minor": 2
}
