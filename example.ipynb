{
 "cells": [
  {
   "cell_type": "code",
   "execution_count": 1,
   "metadata": {},
   "outputs": [],
   "source": [
    "from src import reaction_string_parser"
   ]
  },
  {
   "cell_type": "markdown",
   "metadata": {},
   "source": [
    "Initialize an instance of reaction string parser\n",
    "====="
   ]
  },
  {
   "cell_type": "code",
   "execution_count": 2,
   "metadata": {},
   "outputs": [
    {
     "name": "stdout",
     "output_type": "stream",
     "text": [
      "('A + 5c + 0.8 ABUGH  +1/ 2 AUGH', '5J', 'k21', 1)\n"
     ]
    }
   ],
   "source": [
    "rsp = reaction_string_parser.ReactionStringParser()\n",
    "left, right, rate, direction = \\\n",
    "    rsp.parse_reaction_string(\"A + 5c + 0.8 ABUGH  +1/ 2 AUGH --> 5J , k21\")\n",
    "print((left, right, rate, direction))"
   ]
  },
  {
   "cell_type": "markdown",
   "metadata": {},
   "source": [
    "Using the all-in-one parser\n",
    "===="
   ]
  },
  {
   "cell_type": "code",
   "execution_count": 3,
   "metadata": {},
   "outputs": [
    {
     "ename": "error",
     "evalue": "nothing to repeat at position 0",
     "output_type": "error",
     "traceback": [
      "\u001b[0;31m---------------------------------------------------------------------------\u001b[0m",
      "\u001b[0;31merror\u001b[0m                                     Traceback (most recent call last)",
      "\u001b[1;32m/home/yying7/Documents/GitHub/Reaction_ivp_solver/example.ipynb Cell 5\u001b[0m line \u001b[0;36m4\n\u001b[1;32m      <a href='vscode-notebook-cell:/home/yying7/Documents/GitHub/Reaction_ivp_solver/example.ipynb#X14sZmlsZQ%3D%3D?line=0'>1</a>\u001b[0m \u001b[39m# Example usage:\u001b[39;00m\n\u001b[1;32m      <a href='vscode-notebook-cell:/home/yying7/Documents/GitHub/Reaction_ivp_solver/example.ipynb#X14sZmlsZQ%3D%3D?line=1'>2</a>\u001b[0m reaction_strings \u001b[39m=\u001b[39m [\u001b[39m\"\u001b[39m\u001b[39mA + B -> C, kon\u001b[39m\u001b[39m\"\u001b[39m, \u001b[39m\"\u001b[39m\u001b[39m2X -> Y, kf\u001b[39m\u001b[39m\"\u001b[39m, \u001b[39m\"\u001b[39m\u001b[39mC -> A + B, koff\u001b[39m\u001b[39m\"\u001b[39m, \u001b[39m\"\u001b[39m\u001b[39mY + A -> X + C, ki\u001b[39m\u001b[39m\"\u001b[39m]\n\u001b[1;32m      <a href='vscode-notebook-cell:/home/yying7/Documents/GitHub/Reaction_ivp_solver/example.ipynb#X14sZmlsZQ%3D%3D?line=2'>3</a>\u001b[0m species_names, rate_constant_names, reactant_matrix, product_matrix \u001b[39m=\u001b[39m\\\n\u001b[0;32m----> <a href='vscode-notebook-cell:/home/yying7/Documents/GitHub/Reaction_ivp_solver/example.ipynb#X14sZmlsZQ%3D%3D?line=3'>4</a>\u001b[0m         rsp\u001b[39m.\u001b[39;49mparse_reaction_strings(reaction_strings)\n\u001b[1;32m      <a href='vscode-notebook-cell:/home/yying7/Documents/GitHub/Reaction_ivp_solver/example.ipynb#X14sZmlsZQ%3D%3D?line=4'>5</a>\u001b[0m \u001b[39mprint\u001b[39m(\u001b[39m\"\u001b[39m\u001b[39mSpecies Names:\u001b[39m\u001b[39m\"\u001b[39m)\n\u001b[1;32m      <a href='vscode-notebook-cell:/home/yying7/Documents/GitHub/Reaction_ivp_solver/example.ipynb#X14sZmlsZQ%3D%3D?line=5'>6</a>\u001b[0m \u001b[39mprint\u001b[39m(species_names)\n",
      "File \u001b[0;32m/home/yying7/Documents/GitHub/Reaction_ivp_solver/src/reaction_string_parser.py:363\u001b[0m, in \u001b[0;36mReactionStringParser.parse_reaction_strings\u001b[0;34m(self, reaction_strings, dtype, sort_reactions_by, sort_species_by, VERBOSE_MODE)\u001b[0m\n\u001b[1;32m    359\u001b[0m rate_constant_values \u001b[39m=\u001b[39m []  \u001b[39m# Placeholder\u001b[39;00m\n\u001b[1;32m    361\u001b[0m \u001b[39m# Extract species dictionaries, names, and count\u001b[39;00m\n\u001b[1;32m    362\u001b[0m species_names_set, rate_constant_names, reactant_dictionaries, product_dictionaries \u001b[39m=\u001b[39m \\\n\u001b[0;32m--> 363\u001b[0m     \u001b[39mself\u001b[39;49m\u001b[39m.\u001b[39;49mextract_species_dictionaries_from_reaction_strings(\n\u001b[1;32m    364\u001b[0m         reaction_strings)\n\u001b[1;32m    366\u001b[0m species_names \u001b[39m=\u001b[39m \u001b[39mlist\u001b[39m(species_names_set)\n\u001b[1;32m    367\u001b[0m num_species \u001b[39m=\u001b[39m \u001b[39mlen\u001b[39m(species_names)\n",
      "File \u001b[0;32m/home/yying7/Documents/GitHub/Reaction_ivp_solver/src/reaction_string_parser.py:285\u001b[0m, in \u001b[0;36mReactionStringParser.extract_species_dictionaries_from_reaction_strings\u001b[0;34m(self, reaction_strings)\u001b[0m\n\u001b[1;32m    281\u001b[0m left_species, right_species, rate_constant, reaction_direction\\\n\u001b[1;32m    282\u001b[0m     \u001b[39m=\u001b[39m \u001b[39mself\u001b[39m\u001b[39m.\u001b[39mparse_reaction_string(reaction_string)\n\u001b[1;32m    284\u001b[0m \u001b[39m# convert to species-stoichiometry dict for reactant and product\u001b[39;00m\n\u001b[0;32m--> 285\u001b[0m left_dict \u001b[39m=\u001b[39m \u001b[39mself\u001b[39;49m\u001b[39m.\u001b[39;49mparse_stoichiometry_string(left_species)\n\u001b[1;32m    286\u001b[0m right_dict \u001b[39m=\u001b[39m \u001b[39mself\u001b[39m\u001b[39m.\u001b[39mparse_stoichiometry_string(right_species)\n\u001b[1;32m    288\u001b[0m \u001b[39m# add new names to set\u001b[39;00m\n",
      "File \u001b[0;32m/home/yying7/Documents/GitHub/Reaction_ivp_solver/src/reaction_string_parser.py:204\u001b[0m, in \u001b[0;36mReactionStringParser.parse_stoichiometry_string\u001b[0;34m(self, reactants_or_products_string, DEBUG_MODE)\u001b[0m\n\u001b[1;32m    179\u001b[0m \u001b[39m\"\"\"Parse a stoichiometry string into a stoichiometry dictionary.\u001b[39;00m\n\u001b[1;32m    180\u001b[0m \u001b[39m\u001b[39;00m\n\u001b[1;32m    181\u001b[0m \u001b[39mNote:\u001b[39;00m\n\u001b[0;32m   (...)\u001b[0m\n\u001b[1;32m    201\u001b[0m \u001b[39m    print(stoichiometry)  # Output: {'A': 2, 'B': 1.42857  B, 'C': 0.5}\u001b[39;00m\n\u001b[1;32m    202\u001b[0m \u001b[39m\"\"\"\u001b[39;00m\n\u001b[1;32m    203\u001b[0m \u001b[39m# Split the input string into individual reactants by the '+' symbol\u001b[39;00m\n\u001b[0;32m--> 204\u001b[0m reactants \u001b[39m=\u001b[39m re\u001b[39m.\u001b[39;49msplit(\u001b[39mself\u001b[39;49m\u001b[39m.\u001b[39;49m__species_separator, reactants_or_products_string)\n\u001b[1;32m    205\u001b[0m \u001b[39mif\u001b[39;00m DEBUG_MODE:\n\u001b[1;32m    206\u001b[0m     \u001b[39mprint\u001b[39m(reactants)\n",
      "File \u001b[0;32m/usr/lib/python3.8/re.py:231\u001b[0m, in \u001b[0;36msplit\u001b[0;34m(pattern, string, maxsplit, flags)\u001b[0m\n\u001b[1;32m    223\u001b[0m \u001b[39mdef\u001b[39;00m \u001b[39msplit\u001b[39m(pattern, string, maxsplit\u001b[39m=\u001b[39m\u001b[39m0\u001b[39m, flags\u001b[39m=\u001b[39m\u001b[39m0\u001b[39m):\n\u001b[1;32m    224\u001b[0m     \u001b[39m\"\"\"Split the source string by the occurrences of the pattern,\u001b[39;00m\n\u001b[1;32m    225\u001b[0m \u001b[39m    returning a list containing the resulting substrings.  If\u001b[39;00m\n\u001b[1;32m    226\u001b[0m \u001b[39m    capturing parentheses are used in pattern, then the text of all\u001b[39;00m\n\u001b[0;32m   (...)\u001b[0m\n\u001b[1;32m    229\u001b[0m \u001b[39m    and the remainder of the string is returned as the final element\u001b[39;00m\n\u001b[1;32m    230\u001b[0m \u001b[39m    of the list.\"\"\"\u001b[39;00m\n\u001b[0;32m--> 231\u001b[0m     \u001b[39mreturn\u001b[39;00m _compile(pattern, flags)\u001b[39m.\u001b[39msplit(string, maxsplit)\n",
      "File \u001b[0;32m/usr/lib/python3.8/re.py:304\u001b[0m, in \u001b[0;36m_compile\u001b[0;34m(pattern, flags)\u001b[0m\n\u001b[1;32m    302\u001b[0m \u001b[39mif\u001b[39;00m \u001b[39mnot\u001b[39;00m sre_compile\u001b[39m.\u001b[39misstring(pattern):\n\u001b[1;32m    303\u001b[0m     \u001b[39mraise\u001b[39;00m \u001b[39mTypeError\u001b[39;00m(\u001b[39m\"\u001b[39m\u001b[39mfirst argument must be string or compiled pattern\u001b[39m\u001b[39m\"\u001b[39m)\n\u001b[0;32m--> 304\u001b[0m p \u001b[39m=\u001b[39m sre_compile\u001b[39m.\u001b[39;49mcompile(pattern, flags)\n\u001b[1;32m    305\u001b[0m \u001b[39mif\u001b[39;00m \u001b[39mnot\u001b[39;00m (flags \u001b[39m&\u001b[39m DEBUG):\n\u001b[1;32m    306\u001b[0m     \u001b[39mif\u001b[39;00m \u001b[39mlen\u001b[39m(_cache) \u001b[39m>\u001b[39m\u001b[39m=\u001b[39m _MAXCACHE:\n\u001b[1;32m    307\u001b[0m         \u001b[39m# Drop the oldest item\u001b[39;00m\n",
      "File \u001b[0;32m/usr/lib/python3.8/sre_compile.py:764\u001b[0m, in \u001b[0;36mcompile\u001b[0;34m(p, flags)\u001b[0m\n\u001b[1;32m    762\u001b[0m \u001b[39mif\u001b[39;00m isstring(p):\n\u001b[1;32m    763\u001b[0m     pattern \u001b[39m=\u001b[39m p\n\u001b[0;32m--> 764\u001b[0m     p \u001b[39m=\u001b[39m sre_parse\u001b[39m.\u001b[39;49mparse(p, flags)\n\u001b[1;32m    765\u001b[0m \u001b[39melse\u001b[39;00m:\n\u001b[1;32m    766\u001b[0m     pattern \u001b[39m=\u001b[39m \u001b[39mNone\u001b[39;00m\n",
      "File \u001b[0;32m/usr/lib/python3.8/sre_parse.py:948\u001b[0m, in \u001b[0;36mparse\u001b[0;34m(str, flags, state)\u001b[0m\n\u001b[1;32m    945\u001b[0m state\u001b[39m.\u001b[39mstr \u001b[39m=\u001b[39m \u001b[39mstr\u001b[39m\n\u001b[1;32m    947\u001b[0m \u001b[39mtry\u001b[39;00m:\n\u001b[0;32m--> 948\u001b[0m     p \u001b[39m=\u001b[39m _parse_sub(source, state, flags \u001b[39m&\u001b[39;49m SRE_FLAG_VERBOSE, \u001b[39m0\u001b[39;49m)\n\u001b[1;32m    949\u001b[0m \u001b[39mexcept\u001b[39;00m Verbose:\n\u001b[1;32m    950\u001b[0m     \u001b[39m# the VERBOSE flag was switched on inside the pattern.  to be\u001b[39;00m\n\u001b[1;32m    951\u001b[0m     \u001b[39m# on the safe side, we'll parse the whole thing again...\u001b[39;00m\n\u001b[1;32m    952\u001b[0m     state \u001b[39m=\u001b[39m State()\n",
      "File \u001b[0;32m/usr/lib/python3.8/sre_parse.py:443\u001b[0m, in \u001b[0;36m_parse_sub\u001b[0;34m(source, state, verbose, nested)\u001b[0m\n\u001b[1;32m    441\u001b[0m start \u001b[39m=\u001b[39m source\u001b[39m.\u001b[39mtell()\n\u001b[1;32m    442\u001b[0m \u001b[39mwhile\u001b[39;00m \u001b[39mTrue\u001b[39;00m:\n\u001b[0;32m--> 443\u001b[0m     itemsappend(_parse(source, state, verbose, nested \u001b[39m+\u001b[39;49m \u001b[39m1\u001b[39;49m,\n\u001b[1;32m    444\u001b[0m                        \u001b[39mnot\u001b[39;49;00m nested \u001b[39mand\u001b[39;49;00m \u001b[39mnot\u001b[39;49;00m items))\n\u001b[1;32m    445\u001b[0m     \u001b[39mif\u001b[39;00m \u001b[39mnot\u001b[39;00m sourcematch(\u001b[39m\"\u001b[39m\u001b[39m|\u001b[39m\u001b[39m\"\u001b[39m):\n\u001b[1;32m    446\u001b[0m         \u001b[39mbreak\u001b[39;00m\n",
      "File \u001b[0;32m/usr/lib/python3.8/sre_parse.py:668\u001b[0m, in \u001b[0;36m_parse\u001b[0;34m(source, state, verbose, nested, first)\u001b[0m\n\u001b[1;32m    666\u001b[0m     item \u001b[39m=\u001b[39m \u001b[39mNone\u001b[39;00m\n\u001b[1;32m    667\u001b[0m \u001b[39mif\u001b[39;00m \u001b[39mnot\u001b[39;00m item \u001b[39mor\u001b[39;00m item[\u001b[39m0\u001b[39m][\u001b[39m0\u001b[39m] \u001b[39mis\u001b[39;00m AT:\n\u001b[0;32m--> 668\u001b[0m     \u001b[39mraise\u001b[39;00m source\u001b[39m.\u001b[39merror(\u001b[39m\"\u001b[39m\u001b[39mnothing to repeat\u001b[39m\u001b[39m\"\u001b[39m,\n\u001b[1;32m    669\u001b[0m                        source\u001b[39m.\u001b[39mtell() \u001b[39m-\u001b[39m here \u001b[39m+\u001b[39m \u001b[39mlen\u001b[39m(this))\n\u001b[1;32m    670\u001b[0m \u001b[39mif\u001b[39;00m item[\u001b[39m0\u001b[39m][\u001b[39m0\u001b[39m] \u001b[39min\u001b[39;00m _REPEATCODES:\n\u001b[1;32m    671\u001b[0m     \u001b[39mraise\u001b[39;00m source\u001b[39m.\u001b[39merror(\u001b[39m\"\u001b[39m\u001b[39mmultiple repeat\u001b[39m\u001b[39m\"\u001b[39m,\n\u001b[1;32m    672\u001b[0m                        source\u001b[39m.\u001b[39mtell() \u001b[39m-\u001b[39m here \u001b[39m+\u001b[39m \u001b[39mlen\u001b[39m(this))\n",
      "\u001b[0;31merror\u001b[0m: nothing to repeat at position 0"
     ]
    }
   ],
   "source": [
    "# Example usage:\n",
    "reaction_strings = [\"A + B -> C, kon\", \"2X -> Y, kf\", \"C -> A + B, koff\", \"Y + A -> X + C, ki\"]\n",
    "species_names, rate_constant_names, reactant_matrix, product_matrix =\\\n",
    "        rsp.parse_reaction_strings(reaction_strings)\n",
    "print(\"Species Names:\")\n",
    "print(species_names)\n",
    "print(\"Reactant Stoichiometry Matrix:\")\n",
    "print(reactant_matrix)\n",
    "print(\"Product Stoichiometry Matrix:\")\n",
    "print(product_matrix)\n",
    "print(\"Rate Constant Values: Placeholder. for future use, I think rate constant not from string is better for now?\")\n",
    "print(\"Rate Constant Names:\")\n",
    "print(rate_constant_names)"
   ]
  },
  {
   "cell_type": "markdown",
   "metadata": {},
   "source": [
    "Sorting\n",
    "==="
   ]
  },
  {
   "cell_type": "code",
   "execution_count": null,
   "metadata": {},
   "outputs": [
    {
     "name": "stdout",
     "output_type": "stream",
     "text": [
      "Species Names:\n",
      "['A' 'B' 'C' 'X' 'Y']\n",
      "Reactant Stoichiometry Matrix:\n",
      "[[1 1 0 0 0]\n",
      " [0 0 0 2 0]\n",
      " [0 0 1 0 0]\n",
      " [1 0 0 0 1]]\n",
      "Product Stoichiometry Matrix:\n",
      "[[0 0 1 0 0]\n",
      " [0 0 0 0 1]\n",
      " [1 1 0 0 0]\n",
      " [0 0 1 1 0]]\n",
      "Rate Constant Values: Placeholder. for future use, I think rate constant not from string is better for now?\n",
      "Rate Constant Names:\n",
      "['kon', 'kf', 'koff', 'ki']\n"
     ]
    }
   ],
   "source": [
    "# sorting while parsing\n",
    "# Example usage:\n",
    "reaction_strings = [\"A + B -> C, kon\", \"2X -> Y, kf\", \"C -> A + B, koff\", \"Y + A -> X + C, ki\"]\n",
    "species_names, rate_constant_names, reactant_matrix, product_matrix =\\\n",
    "        rsp.parse_reaction_strings(reaction_strings, sort_species_by=\"increasing\")\n",
    "print(\"Species Names:\")\n",
    "print(species_names)\n",
    "print(\"Reactant Stoichiometry Matrix:\")\n",
    "print(reactant_matrix)\n",
    "print(\"Product Stoichiometry Matrix:\")\n",
    "print(product_matrix)\n",
    "print(\"Rate Constant Values: Placeholder. for future use, I think rate constant not from string is better for now?\")\n",
    "print(\"Rate Constant Names:\")\n",
    "print(rate_constant_names)"
   ]
  },
  {
   "cell_type": "code",
   "execution_count": null,
   "metadata": {},
   "outputs": [
    {
     "data": {
      "text/plain": [
       "(array([[1, 1, 0, 0, 0],\n",
       "        [0, 0, 1, 0, 0],\n",
       "        [0, 0, 0, 2, 0],\n",
       "        [1, 0, 0, 0, 1]]),\n",
       " array([[0, 0, 1, 0, 0],\n",
       "        [1, 1, 0, 0, 0],\n",
       "        [0, 0, 0, 0, 1],\n",
       "        [0, 0, 1, 1, 0]]),\n",
       " array(['kon', 'koff', 'kf', 'ki'], dtype='<U4'))"
      ]
     },
     "execution_count": 5,
     "metadata": {},
     "output_type": "execute_result"
    }
   ],
   "source": [
    "# sorting after parsing\n",
    "# sort by rate constant\n",
    "rsp.sort_by_rate_constants(reactant_matrix, product_matrix,\n",
    "            rate_constant_names, sort_order = ['kon', 'koff', 'kf', 'ki'])"
   ]
  },
  {
   "cell_type": "code",
   "execution_count": null,
   "metadata": {},
   "outputs": [
    {
     "data": {
      "text/plain": [
       "(array([[1, 1, 0, 0, 0],\n",
       "        [0, 0, 0, 2, 0],\n",
       "        [0, 0, 1, 0, 0],\n",
       "        [1, 0, 0, 0, 1]]),\n",
       " array([[0, 0, 1, 0, 0],\n",
       "        [0, 0, 0, 0, 1],\n",
       "        [1, 1, 0, 0, 0],\n",
       "        [0, 0, 1, 1, 0]]),\n",
       " array(['A', 'B', 'C', 'X', 'Y'], dtype='<U1'))"
      ]
     },
     "execution_count": 6,
     "metadata": {},
     "output_type": "execute_result"
    }
   ],
   "source": [
    "# sort by species names\n",
    "rsp.sort_by_species_names(reactant_matrix, product_matrix,\n",
    "            species_names, sort_order = ['A', 'B', 'C', 'X', 'Y'])"
   ]
  },
  {
   "cell_type": "markdown",
   "metadata": {},
   "source": [
    "Decimal / Fraction support\n",
    "======"
   ]
  },
  {
   "cell_type": "code",
   "execution_count": null,
   "metadata": {},
   "outputs": [
    {
     "name": "stdout",
     "output_type": "stream",
     "text": [
      "Species Names:\n",
      "['B', 'A', 'C']\n",
      "Reactant Stoichiometry Matrix:\n",
      "[[0.25 0.6  0.  ]\n",
      " [0.   0.   1.  ]]\n",
      "Product Stoichiometry Matrix:\n",
      "[[0.   0.   1.  ]\n",
      " [0.25 0.6  0.  ]]\n",
      "Rate Constant Values: Placeholder. for future use, I think rate constant not from string is better for now?\n",
      "Rate Constant Names:\n",
      "['kon', 'koff']\n"
     ]
    }
   ],
   "source": [
    "# Example usage:\n",
    "# Remember to set dtype to float to enable decimal / fraction support!\n",
    "reaction_strings = [\"0.6A + 1/4 B -> C, kon\", \"C -> 0.6 A + 1/4 B, koff\"]\n",
    "species_names, rate_constant_names, reactant_matrix, product_matrix =\\\n",
    "        rsp.parse_reaction_strings(reaction_strings, dtype = float)\n",
    "print(\"Species Names:\")\n",
    "print(species_names)\n",
    "print(\"Reactant Stoichiometry Matrix:\")\n",
    "print(reactant_matrix)\n",
    "print(\"Product Stoichiometry Matrix:\")\n",
    "print(product_matrix)\n",
    "print(\"Rate Constant Values: Placeholder. for future use, I think rate constant not from string is better for now?\")\n",
    "print(\"Rate Constant Names:\")\n",
    "print(rate_constant_names)"
   ]
  },
  {
   "cell_type": "markdown",
   "metadata": {},
   "source": [
    "Functionality breakdown\n",
    "===\n",
    "Parse LHS or RHS of reaction string to dictionaries\n",
    "==="
   ]
  },
  {
   "cell_type": "code",
   "execution_count": null,
   "metadata": {},
   "outputs": [
    {
     "data": {
      "text/plain": [
       "{'A': 1.0, 'c': 5.0, 'ABUGH': 0.8, 'AUGH': 0.5}"
      ]
     },
     "execution_count": 8,
     "metadata": {},
     "output_type": "execute_result"
    }
   ],
   "source": [
    "rsp.parse_stoichiometry_string(left)"
   ]
  },
  {
   "cell_type": "markdown",
   "metadata": {},
   "source": [
    "Extract Reactant and Product dict from strings\n",
    "==="
   ]
  },
  {
   "cell_type": "code",
   "execution_count": null,
   "metadata": {},
   "outputs": [
    {
     "name": "stdout",
     "output_type": "stream",
     "text": [
      "WARNING: Repeated names found in rate_constant_names: {'koff'} \n",
      " This can lead to ambiguity in ODE definition. \n",
      " Please consider change the naming.\n"
     ]
    },
    {
     "data": {
      "text/plain": [
       "({'A', 'ABUGH', 'AUGH', 'B', 'C', 'J', 'X', 'Y', 'c'},\n",
       " ['kon', 'koff', 'koff', 'ki', 'k21'],\n",
       " [{'A': 1.0, 'B': 1.0},\n",
       "  {'X': 2.0},\n",
       "  {'C': 1.0},\n",
       "  {'Y': 1.0, 'A': 1.0},\n",
       "  {'A': 1.0, 'c': 5.0, 'ABUGH': 0.8, 'AUGH': 0.5}],\n",
       " [{'C': 1.0},\n",
       "  {'Y': 1.0},\n",
       "  {'A': 1.0, 'B': 1.0},\n",
       "  {'X': 1.0, 'C': 1.0},\n",
       "  {'J': 5.0}])"
      ]
     },
     "execution_count": 9,
     "metadata": {},
     "output_type": "execute_result"
    }
   ],
   "source": [
    "reaction_strings = [\"A + B -> C, kon\", \"2X -> Y, koff\", \"C -> A + B, koff\", \n",
    "                    \"Y + A -> X + C, ki\",\n",
    "                    \"A + 5c + 0.8 ABUGH  +1/ 2 AUGH --> 5J , k21\"]\n",
    "rsp.extract_species_dictionaries_from_reaction_strings(reaction_strings)"
   ]
  },
  {
   "cell_type": "code",
   "execution_count": null,
   "metadata": {},
   "outputs": [],
   "source": []
  }
 ],
 "metadata": {
  "kernelspec": {
   "display_name": "Python 3",
   "language": "python",
   "name": "python3"
  },
  "language_info": {
   "codemirror_mode": {
    "name": "ipython",
    "version": 3
   },
   "file_extension": ".py",
   "mimetype": "text/x-python",
   "name": "python",
   "nbconvert_exporter": "python",
   "pygments_lexer": "ipython3",
   "version": "3.8.10"
  }
 },
 "nbformat": 4,
 "nbformat_minor": 2
}
