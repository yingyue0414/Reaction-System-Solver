{
 "cells": [
  {
   "cell_type": "code",
   "execution_count": 14,
   "id": "6877925f",
   "metadata": {},
   "outputs": [],
   "source": [
    "import numpy as np\n",
    "from src import reaction_string_parser"
   ]
  },
  {
   "cell_type": "code",
   "execution_count": 15,
   "id": "975b686f",
   "metadata": {},
   "outputs": [],
   "source": [
    "rsp = reaction_string_parser.ReactionStringParser()\n",
    "\n",
    "# initialize reaction strings\n",
    "reaction_strings = [\n",
    "  \"A + DA -> DA_d, k0\",\n",
    "  \"DA_d -> A + DA, k1\",\n",
    "  \"DA -> DA + MA, k2\",\n",
    "  \"DA_d -> DA_d + MA, k3\",\n",
    "  \"A + DR -> DR_d, k4\",\n",
    "  \"DR_d -> A + DR, k5\",\n",
    "  \"DR -> DR + MR, k6\",\n",
    "  \"DR_d -> DR_d + MR, k7\",\n",
    "  \"MA -> , k8\",\n",
    "  \"MA -> MA + A, k9\",\n",
    "  \"MR -> , k10\",\n",
    "  \"MR -> MR + R , k11\",\n",
    "  \"A -> , k12\",\n",
    "  \"R -> , k13\",\n",
    "  \"A + R -> C, k14\",\n",
    "  \"C -> R , k15\"\n",
    "]\n",
    "\n",
    "macroscopic_rate_constants = np.array([602e6, 50, 50, 500,\n",
    "                                       602e6, 100, 0.01, 50,\n",
    "                                       10, 50, 0.5, 5,\n",
    "                                       1, 0.2, 1204e6, 1], dtype = float)\n",
    "\n",
    "species_names, rate_constant_names, reactant_matrix, product_matrix =\\\n",
    "        rsp.parse_reaction_strings(reaction_strings)"
   ]
  },
  {
   "cell_type": "code",
   "execution_count": 16,
   "id": "58f56eb0",
   "metadata": {},
   "outputs": [
    {
     "name": "stdout",
     "output_type": "stream",
     "text": [
      "Species Names:\n",
      "['MR', 'DA_d', 'C', 'MA', 'DR_d', 'A', 'DA', 'R', 'DR']\n",
      "Reactant Stoichiometry Matrix:\n",
      "[[0 0 0 0 0 1 1 0 0]\n",
      " [0 1 0 0 0 0 0 0 0]\n",
      " [0 0 0 0 0 0 1 0 0]\n",
      " [0 1 0 0 0 0 0 0 0]\n",
      " [0 0 0 0 0 1 0 0 1]\n",
      " [0 0 0 0 1 0 0 0 0]\n",
      " [0 0 0 0 0 0 0 0 1]\n",
      " [0 0 0 0 1 0 0 0 0]\n",
      " [0 0 0 1 0 0 0 0 0]\n",
      " [0 0 0 1 0 0 0 0 0]\n",
      " [1 0 0 0 0 0 0 0 0]\n",
      " [1 0 0 0 0 0 0 0 0]\n",
      " [0 0 0 0 0 1 0 0 0]\n",
      " [0 0 0 0 0 0 0 1 0]\n",
      " [0 0 0 0 0 1 0 1 0]\n",
      " [0 0 1 0 0 0 0 0 0]]\n",
      "Product Stoichiometry Matrix:\n",
      "[[0 1 0 0 0 0 0 0 0]\n",
      " [0 0 0 0 0 1 1 0 0]\n",
      " [0 0 0 1 0 0 1 0 0]\n",
      " [0 1 0 1 0 0 0 0 0]\n",
      " [0 0 0 0 1 0 0 0 0]\n",
      " [0 0 0 0 0 1 0 0 1]\n",
      " [1 0 0 0 0 0 0 0 1]\n",
      " [1 0 0 0 1 0 0 0 0]\n",
      " [0 0 0 0 0 0 0 0 0]\n",
      " [0 0 0 1 0 1 0 0 0]\n",
      " [0 0 0 0 0 0 0 0 0]\n",
      " [1 0 0 0 0 0 0 1 0]\n",
      " [0 0 0 0 0 0 0 0 0]\n",
      " [0 0 0 0 0 0 0 0 0]\n",
      " [0 0 1 0 0 0 0 0 0]\n",
      " [0 0 0 0 0 0 0 1 0]]\n",
      "Rate Constant Values: Placeholder. for future use, I think rate constant not from string is better for now?\n",
      "Rate Constant Names:\n",
      "['k0', 'k1', 'k2', 'k3', 'k4', 'k5', 'k6', 'k7', 'k8', 'k9', 'k10', 'k11', 'k12', 'k13', 'k14', 'k15']\n"
     ]
    }
   ],
   "source": [
    "print(\"Species Names:\")\n",
    "print(species_names)\n",
    "print(\"Reactant Stoichiometry Matrix:\")\n",
    "print(reactant_matrix)\n",
    "print(\"Product Stoichiometry Matrix:\")\n",
    "print(product_matrix)\n",
    "print(\"Rate Constant Values: Placeholder. for future use, I think rate constant not from string is better for now?\")\n",
    "print(\"Rate Constant Names:\")\n",
    "print(rate_constant_names)"
   ]
  },
  {
   "cell_type": "code",
   "execution_count": 17,
   "id": "b1fac8f3",
   "metadata": {},
   "outputs": [
    {
     "data": {
      "text/plain": [
       "array([2.38635628e+45, 5.00000000e+01, 5.00000000e+01, 5.00000000e+02,\n",
       "       2.38635628e+45, 1.00000000e+02, 1.00000000e-02, 5.00000000e+01,\n",
       "       1.00000000e+01, 5.00000000e+01, 5.00000000e-01, 5.00000000e+00,\n",
       "       1.00000000e+00, 2.00000000e-01, 4.77271255e+45, 1.00000000e+00])"
      ]
     },
     "execution_count": 17,
     "metadata": {},
     "output_type": "execute_result"
    }
   ],
   "source": [
    "volume = 4.189e-15 # Litre\n",
    "convert_to_microscopic_rate_constants(macroscopic_rate_constants, reactant_matrix, volume)"
   ]
  },
  {
   "cell_type": "code",
   "execution_count": 5,
   "id": "19f96b39",
   "metadata": {},
   "outputs": [],
   "source": []
  },
  {
   "cell_type": "code",
   "execution_count": 13,
   "id": "7eb8fac1",
   "metadata": {},
   "outputs": [],
   "source": [
    "def convert_to_microscopic_rate_constants(macroscopic_rate_constants, reactant_matrix, volume,\n",
    "                                          avogadro=6.02214e23):\n",
    "    \"\"\"\n",
    "    Note:\n",
    "        All volumes are assumed to be in liters, and concentrations are assumed to be in mol/L!\n",
    "    \n",
    "    Convert macroscopic rate constants to microscopic rate constants for Gillespie algorithm.\n",
    "\n",
    "    Args:\n",
    "        macroscopic_rate_constants (numpy.ndarray): Array of macroscopic rate constants.\n",
    "        reactant_matrix (numpy.ndarray): Matrix representing reactants in each reaction.\n",
    "        volume (float): Volume of the system (assumed to be in liters).\n",
    "        avogadro (float, optional): Avogadro's number (default: 6.02214e-23).\n",
    "\n",
    "    Raises:\n",
    "        ValueError: If any entry in the reactant matrix is not a mathematical integer.\n",
    "\n",
    "    Returns:\n",
    "        numpy.ndarray: Array of microscopic rate constants.\n",
    "    \"\"\"\n",
    "    #### ALL volumes are assumed to be in liters, and concentrations are assumed to be in mol/L!\n",
    "    # Check if all entries in the reactant matrix are mathematical integers\n",
    "    if not np.all(np.mod(reactant_matrix, 1) == 0):\n",
    "        raise ValueError(\"For Gillespie, all entries in the matrix must be mathematical integers.\")\n",
    "\n",
    "    # Initialize an array for microscopic rate constants\n",
    "    microscopic_rate_constants = np.zeros(len(macroscopic_rate_constants))\n",
    "\n",
    "    # Calculate microscopic rate constants\n",
    "    for reaction_index, reaction in enumerate(reactant_matrix):\n",
    "        scalar = 1\n",
    "        power = 1\n",
    "        for species_index, species_count in enumerate(reaction):\n",
    "            scalar *= math.factorial(int(species_count))\n",
    "            power -= species_count\n",
    "        microscopic_rate_constants[reaction_index] = (\n",
    "            scalar * macroscopic_rate_constants[reaction_index] * np.power((volume * avogadro), power)\n",
    "        )\n",
    "\n",
    "    return microscopic_rate_constants\n"
   ]
  },
  {
   "cell_type": "code",
   "execution_count": null,
   "id": "a9e82470",
   "metadata": {},
   "outputs": [],
   "source": []
  },
  {
   "cell_type": "code",
   "execution_count": 6,
   "id": "dfa0bf14",
   "metadata": {},
   "outputs": [
    {
     "data": {
      "text/plain": [
       "array([6.02e+05, 1.00e+03, 5.00e+02, 1.00e+04, 6.02e+05, 4.00e+04,\n",
       "       1.00e-01, 2.00e+04, 1.00e+03, 5.00e+03, 5.00e+00, 5.00e+01,\n",
       "       1.00e+02, 1.00e+00, 6.02e+05, 1.00e+01])"
      ]
     },
     "execution_count": 6,
     "metadata": {},
     "output_type": "execute_result"
    }
   ],
   "source": [
    "y = [10, 20, 10, 100, 400, 100, 10, 5, 10]\n",
    "calculate_propensity(y, reactant_matrix, microscopic_rate_constants = reaction_rates)"
   ]
  },
  {
   "cell_type": "code",
   "execution_count": 7,
   "id": "d8217684",
   "metadata": {},
   "outputs": [],
   "source": [
    "y_record, t_record = gillespie_simulation(0.1, y, reactant_matrix,\n",
    "                                          product_matrix, microscopic_rate_constants = reaction_rates)"
   ]
  },
  {
   "cell_type": "code",
   "execution_count": 8,
   "id": "7538d2c8",
   "metadata": {},
   "outputs": [
    {
     "data": {
      "text/plain": [
       "[<matplotlib.lines.Line2D at 0x7fe6b2351b20>,\n",
       " <matplotlib.lines.Line2D at 0x7fe6b2351b50>,\n",
       " <matplotlib.lines.Line2D at 0x7fe6b23409a0>,\n",
       " <matplotlib.lines.Line2D at 0x7fe6b23409d0>,\n",
       " <matplotlib.lines.Line2D at 0x7fe6b2340a00>,\n",
       " <matplotlib.lines.Line2D at 0x7fe6b2351d30>,\n",
       " <matplotlib.lines.Line2D at 0x7fe6b2351e20>,\n",
       " <matplotlib.lines.Line2D at 0x7fe6b2351f10>,\n",
       " <matplotlib.lines.Line2D at 0x7fe6b2534040>]"
      ]
     },
     "execution_count": 8,
     "metadata": {},
     "output_type": "execute_result"
    },
    {
     "data": {
      "image/png": "[encoded data removed]",
      "text/plain": [
       "<Figure size 432x288 with 1 Axes>"
      ]
     },
     "metadata": {
      "needs_background": "light"
     },
     "output_type": "display_data"
    }
   ],
   "source": [
    "import matplotlib.pyplot as plt\n",
    "plt.plot(t_record, y_record)"
   ]
  },
  {
   "cell_type": "code",
   "execution_count": null,
   "id": "89f81544",
   "metadata": {},
   "outputs": [],
   "source": []
  }
 ],
 "metadata": {
  "kernelspec": {
   "display_name": "Python 3 (ipykernel)",
   "language": "python",
   "name": "python3"
  },
  "language_info": {
   "codemirror_mode": {
    "name": "ipython",
    "version": 3
   },
   "file_extension": ".py",
   "mimetype": "text/x-python",
   "name": "python",
   "nbconvert_exporter": "python",
   "pygments_lexer": "ipython3",
   "version": "3.9.7"
  }
 },
 "nbformat": 4,
 "nbformat_minor": 5
}
